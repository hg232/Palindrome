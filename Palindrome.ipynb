{
 "cells": [
  {
   "cell_type": "code",
   "execution_count": 3,
   "metadata": {},
   "outputs": [
    {
     "name": "stdout",
     "output_type": "stream",
     "text": [
      "Ice Cream\n"
     ]
    }
   ],
   "source": [
    "var1 = \"Ice Cream\"\n",
    "print(var1)"
   ]
  },
  {
   "cell_type": "code",
   "execution_count": 4,
   "metadata": {},
   "outputs": [],
   "source": [
    "def strip_punct(x):\n",
    "    p = \",.?!;:\"\n",
    "    for this in p:\n",
    "        x = x.replace(this, \"\")\n",
    "    return x"
   ]
  },
  {
   "cell_type": "code",
   "execution_count": 5,
   "metadata": {},
   "outputs": [],
   "source": [
    "def strip_spaces(x):\n",
    "    p = \" \"\n",
    "    for this in p:\n",
    "        x = x.replace(this, \"\")\n",
    "    return x"
   ]
  },
  {
   "cell_type": "code",
   "execution_count": 6,
   "metadata": {},
   "outputs": [
    {
     "name": "stdout",
     "output_type": "stream",
     "text": [
      "IceCream\n"
     ]
    }
   ],
   "source": [
    "var1 = strip_spaces(var1)\n",
    "print(var1)"
   ]
  },
  {
   "cell_type": "code",
   "execution_count": 7,
   "metadata": {},
   "outputs": [],
   "source": [
    "\n",
    "def reverse(x):\n",
    "    storeanswer = []\n",
    "    for i in range(len(x)-1,-1,-1):\n",
    "            storeanswer.append(x[i])\n",
    "    return(storeanswer)\n"
   ]
  },
  {
   "cell_type": "code",
   "execution_count": 8,
   "metadata": {},
   "outputs": [
    {
     "name": "stdout",
     "output_type": "stream",
     "text": [
      "['m', 'a', 'e', 'r', 'C', 'e', 'c', 'I']\n"
     ]
    }
   ],
   "source": [
    "var2 = reverse(var1)\n",
    "print(var2)"
   ]
  },
  {
   "cell_type": "code",
   "execution_count": 9,
   "metadata": {},
   "outputs": [],
   "source": [
    "def conversion(x):\n",
    "    string1 = \"\"\n",
    "    for i in x:\n",
    "        string1 += i\n",
    "    return string1\n"
   ]
  },
  {
   "cell_type": "code",
   "execution_count": 10,
   "metadata": {},
   "outputs": [
    {
     "name": "stdout",
     "output_type": "stream",
     "text": [
      "maerCecI\n"
     ]
    }
   ],
   "source": [
    "var2 = conversion(var2)\n",
    "print(var2)"
   ]
  },
  {
   "cell_type": "code",
   "execution_count": null,
   "metadata": {},
   "outputs": [],
   "source": [
    "answer = input(\"Please provide a word or sentence to check for palindrome: \")\n",
    "\n",
    "while True:\n",
    "    answer = strip_punct(answer)\n",
    "    answer = strip_spaces(answer)\n",
    "    answer = answer.lower()\n",
    "    var2 = reverse(answer)\n",
    "    string = conversion(var2)\n",
    "    if string == answer:\n",
    "        print(\"Palindrome\")\n",
    "        break\n",
    "    else:\n",
    "        print(\"No palindrome here. Bye\")\n",
    "        break"
   ]
  },
  {
   "cell_type": "code",
   "execution_count": null,
   "metadata": {},
   "outputs": [],
   "source": []
  },
  {
   "cell_type": "code",
   "execution_count": null,
   "metadata": {},
   "outputs": [],
   "source": []
  }
 ],
 "metadata": {
  "kernelspec": {
   "display_name": "Python 3",
   "language": "python",
   "name": "python3"
  },
  "language_info": {
   "codemirror_mode": {
    "name": "ipython",
    "version": 3
   },
   "file_extension": ".py",
   "mimetype": "text/x-python",
   "name": "python",
   "nbconvert_exporter": "python",
   "pygments_lexer": "ipython3",
   "version": "3.7.6"
  }
 },
 "nbformat": 4,
 "nbformat_minor": 4
}
